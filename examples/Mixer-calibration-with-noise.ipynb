{
 "cells": [
  {
   "cell_type": "code",
   "execution_count": 1,
   "metadata": {
    "ExecuteTime": {
     "end_time": "2019-04-25T12:45:59.032739Z",
     "start_time": "2019-04-25T12:45:59.025757Z"
    }
   },
   "outputs": [],
   "source": [
    "#%matplotlib qt"
   ]
  },
  {
   "cell_type": "code",
   "execution_count": 2,
   "metadata": {
    "ExecuteTime": {
     "end_time": "2019-04-25T12:45:59.777225Z",
     "start_time": "2019-04-25T12:45:59.774204Z"
    }
   },
   "outputs": [],
   "source": [
    "import numpy as np\n",
    "#from  qsweepy.instrument_drivers import AWG500, Signal_Hound_SA, Labbrick\n",
    "#from qsweepy.instrument_drivers.AWG500 import AWG500\n",
    "#from qsweepy.instrument_drivers.Signal_Hound_SA import Signal_Hound_SA, get_signal_hounds\n",
    "#from qsweepy.instrument_drivers.Labbrick import Labbrick\n"
   ]
  },
  {
   "cell_type": "code",
   "execution_count": 3,
   "metadata": {
    "ExecuteTime": {
     "end_time": "2019-04-25T12:46:00.651203Z",
     "start_time": "2019-04-25T12:46:00.397837Z"
    }
   },
   "outputs": [],
   "source": [
    "%matplotlib notebook"
   ]
  },
  {
   "cell_type": "code",
   "execution_count": 4,
   "metadata": {
    "ExecuteTime": {
     "end_time": "2019-04-25T12:46:01.744377Z",
     "start_time": "2019-04-25T12:46:01.213757Z"
    }
   },
   "outputs": [],
   "source": [
    "from qsweepy.instruments import *\n",
    "#import qsweepy.awg_iq_multi\n",
    "from scipy.signal import resample\n",
    "from matplotlib import pyplot as plt"
   ]
  },
  {
   "cell_type": "code",
   "execution_count": 5,
   "metadata": {
    "ExecuteTime": {
     "end_time": "2019-04-25T12:46:02.439332Z",
     "start_time": "2019-04-25T12:46:02.430360Z"
    }
   },
   "outputs": [],
   "source": [
    "class awg_iq:\n",
    "    def __init__(self, awg, channel_i, channel_q):\n",
    "        self.awg = awg\n",
    "        self.channel_i = channel_i\n",
    "        self.channel_q = channel_q\n",
    "    def get_nop(self):\n",
    "        return self.awg.get_nop()\n",
    "    def set_nop(self, nop):\n",
    "        self.awg.set_nop(nop)\n",
    "    def set_waveform(self, waveform):\n",
    "        self.awg.set_waveform(np.real(waveform), channel= self.channel_i)\n",
    "        self.awg.set_waveform(np.imag(waveform), channel= self.channel_q)\n",
    "    def get_clock(self):\n",
    "        return self.awg.get_clock()"
   ]
  },
  {
   "cell_type": "code",
   "execution_count": 6,
   "metadata": {
    "ExecuteTime": {
     "end_time": "2019-04-25T12:46:02.803458Z",
     "start_time": "2019-04-25T12:46:02.798450Z"
    }
   },
   "outputs": [],
   "source": [
    "def dft(waveforms):\n",
    "    return np.fft.fftshift(np.fft.fft(waveforms, axis=1, norm='ortho'), axis=1)\n",
    "def ift(psds):\n",
    "    return np.fft.ifft(np.fft.ifftshift(psd, axis=1), axis=1, norm='ortho')"
   ]
  },
  {
   "cell_type": "code",
   "execution_count": 7,
   "metadata": {
    "ExecuteTime": {
     "end_time": "2019-04-25T12:46:03.504629Z",
     "start_time": "2019-04-25T12:46:03.453685Z"
    }
   },
   "outputs": [],
   "source": [
    "class iq_calibration_measure:\n",
    "    def __init__(self, \n",
    "                 awg_iq,\n",
    "                 sa, \n",
    "                 lo,\n",
    "                 video_bw = 'keep',\n",
    "                 repetition_rate = 'keep', \n",
    "                 res_bw = 'keep', \n",
    "                 algorithmic_resolution = 'keep',\n",
    "                 random_waveforms=5,\n",
    "                 low_amplitude=0.05):\n",
    "        '''Collect data for iq mixer calibration with random waveforms.\n",
    "        awg_iq: class with set_waveform and get_nop/set_nop methods\n",
    "        sa: spectrum analyzer with set_bandwidth(), set_xlim() and measure() methods\n",
    "        lo: local  oscillator with get_frequency() method\n",
    "        measurement_resolution_bw: resolution bandwidth as installed on sa.\n",
    "        repetition_rate: repetition rate of the AWG\n",
    "        random_waveforms: number of different random segments for algorithm. \n",
    "        low_amplitude: waveform amplitude multiplier to make sure the linear regime is working\n",
    "\n",
    "        A key issue for this method is frequency resolution. \n",
    "        The parameters should be, at least:\n",
    "        4*repetition_rate<2*measurement_resolution_bw<algorithmic_resolution\n",
    "        algorithmic_resolution is the effective frequency resolution of the reconstruction algorithms.\n",
    "        '''\n",
    "        self.awg_iq = awg_iq\n",
    "        self.sa = sa\n",
    "        self.lo = lo\n",
    "        \n",
    "        self.discretization_frequency = self.awg_iq.get_clock()\n",
    "        self.lo_frequency = lo.get_frequency()\n",
    "        \n",
    "        if video_bw == 'keep': \n",
    "            self.video_bw = self.sa.get_video_bw()\n",
    "        else: \n",
    "            self.video_bw = video_bw\n",
    "            self.sa.set_video_bw(self.video_bw)\n",
    "        \n",
    "        if repetition_rate == 'keep': \n",
    "            self.awg_nop = self.awg_iq.get_nop()\n",
    "        else: \n",
    "            self.awg_nop = int(self.discretization_frequency/repetition_rate)\n",
    "            self.awg_iq.set_nop(self.awg_nop)\n",
    "            \n",
    "        if res_bw == 'keep': \n",
    "            self.res_bw = self.sa.get_res_bw()\n",
    "        else: \n",
    "            self.res_bw = res_bw\n",
    "            self.sa.set_res_bw(self.res_bw)\n",
    "        self.low_amplitude = low_amplitude\n",
    "        self.sa.set_video_bw(self.video_bw)\n",
    "        \n",
    "        # following parameters must be integer\n",
    "        self.random_waveform_number = random_waveforms\n",
    "        self.segment_length = int(self.discretization_frequency/algorithmic_resolution)\n",
    "        self.half_physical_padding = int((self.awg_nop-self.segment_length)/2)\n",
    "        self.half_simulation_padding = int(((self.discretization_frequency/self.res_bw)-self.segment_length)/2)\n",
    "        \n",
    "        self.frequency_step = self.discretization_frequency/self.segment_length\n",
    "        if hasattr(sa, 'set_nop'):\n",
    "            self.sa.set_nop(self.segment_length)\n",
    "        self.sa.set_span(self.discretization_frequency-self.frequency_step)\n",
    "        self.sa.set_centerfreq(self.lo_frequency-self.frequency_step/2)\n",
    "        \n",
    "    def generate_random_waveforms(self, seed=42):\n",
    "        np.random.seed(seed)\n",
    "        self.waveforms = (np.random.rand(self.random_waveform_number, self.segment_length)*2-1)*self.low_amplitude\n",
    "    \n",
    "    def measure(self):\n",
    "        self.psds = np.zeros((random_waveform_number, self.segment_length))\n",
    "        for random_waveform_id in range(self.waveforms.shape[0]):\n",
    "            padded_waveform    = np.zeros((self.half_physical_padding*2+self.segment_length), dtype=np.complex)\n",
    "            padded_waveform[self.half_physical_padding:-self.half_physical_padding] = self.waveforms[random_waveform_id,:]\n",
    "            self.awg_iq.set_waveform(padded_waveform)\n",
    "            psd = sa.measure()['Power']\n",
    "            if not hasattr(sa, 'set_nop'):\n",
    "                psd = resample(psd, self.segment_length)\n",
    "            self.psds[random_waveform_id, :]  = psd"
   ]
  },
  {
   "cell_type": "code",
   "execution_count": null,
   "metadata": {
    "collapsed": true
   },
   "outputs": [],
   "source": []
  },
  {
   "cell_type": "code",
   "execution_count": 8,
   "metadata": {
    "ExecuteTime": {
     "end_time": "2019-04-25T12:46:06.554961Z",
     "start_time": "2019-04-25T12:46:04.510156Z"
    }
   },
   "outputs": [
    {
     "name": "stdout",
     "output_type": "stream",
     "text": [
      "opening device\n",
      "device open\n",
      "Virtex is programmed?  False\n"
     ]
    }
   ],
   "source": [
    "awg = AWG500('awg', address=2, ver=2)"
   ]
  },
  {
   "cell_type": "code",
   "execution_count": 9,
   "metadata": {
    "ExecuteTime": {
     "end_time": "2019-04-25T12:46:19.242880Z",
     "start_time": "2019-04-25T12:46:07.206252Z"
    },
    "collapsed": true
   },
   "outputs": [],
   "source": [
    "sa = Signal_Hound_SA('sa', serial=61660066)\n",
    "sa.set_ref(-30)\n",
    "sa.set_detector('rms')"
   ]
  },
  {
   "cell_type": "code",
   "execution_count": 10,
   "metadata": {
    "ExecuteTime": {
     "end_time": "2019-04-25T12:46:20.556968Z",
     "start_time": "2019-04-25T12:46:20.492573Z"
    },
    "collapsed": true
   },
   "outputs": [],
   "source": [
    "lo = Labbrick('lo', serial=15248)\n"
   ]
  },
  {
   "cell_type": "code",
   "execution_count": 11,
   "metadata": {
    "ExecuteTime": {
     "end_time": "2019-04-25T12:46:20.757928Z",
     "start_time": "2019-04-25T12:46:20.753964Z"
    },
    "collapsed": true
   },
   "outputs": [],
   "source": [
    "awg_iq_inst = awg_iq(awg=awg, channel_i=1, channel_q=2)"
   ]
  },
  {
   "cell_type": "code",
   "execution_count": null,
   "metadata": {
    "ExecuteTime": {
     "end_time": "2019-04-25T12:22:50.571508Z",
     "start_time": "2019-04-25T12:22:50.564528Z"
    }
   },
   "outputs": [],
   "source": []
  },
  {
   "cell_type": "code",
   "execution_count": 30,
   "metadata": {
    "ExecuteTime": {
     "end_time": "2019-04-25T12:48:27.301796Z",
     "start_time": "2019-04-25T12:48:27.295813Z"
    },
    "collapsed": true
   },
   "outputs": [],
   "source": [
    "repetition_rate = 500e6/32576#100e3\n",
    "#algorithmic_resolution = e6\n",
    "video_bw = 10e3\n",
    "res_bw = 0.25e6\n",
    "algorithmic_resolution = 2.0e6\n",
    "random_waveform_number = 5\n",
    "low_amplitude = 0.4"
   ]
  },
  {
   "cell_type": "code",
   "execution_count": 31,
   "metadata": {
    "ExecuteTime": {
     "end_time": "2019-04-25T12:48:29.588254Z",
     "start_time": "2019-04-25T12:48:28.742537Z"
    },
    "collapsed": true
   },
   "outputs": [],
   "source": [
    "iq_calibration_measure_inst = iq_calibration_measure(awg_iq=awg_iq_inst, \n",
    "                                                     sa=sa, \n",
    "                                                     lo=lo, \n",
    "                                                     video_bw=video_bw, \n",
    "                                                     repetition_rate=repetition_rate,\n",
    "                                                     res_bw=res_bw,\n",
    "                                                     algorithmic_resolution=algorithmic_resolution,\n",
    "                                                     random_waveforms=5,\n",
    "                                                     low_amplitude=0.05)"
   ]
  },
  {
   "cell_type": "code",
   "execution_count": 32,
   "metadata": {
    "ExecuteTime": {
     "end_time": "2019-04-25T12:48:31.116332Z",
     "start_time": "2019-04-25T12:48:30.741544Z"
    }
   },
   "outputs": [
    {
     "data": {
      "text/plain": [
       "(497600224.91520005, 3998901807.5028005)"
      ]
     },
     "execution_count": 32,
     "metadata": {},
     "output_type": "execute_result"
    }
   ],
   "source": [
    "sa.get_span(), sa.get_centerfreq()"
   ]
  },
  {
   "cell_type": "code",
   "execution_count": 33,
   "metadata": {
    "ExecuteTime": {
     "end_time": "2019-04-25T12:48:33.187980Z",
     "start_time": "2019-04-25T12:48:33.181997Z"
    }
   },
   "outputs": [
    {
     "data": {
      "text/plain": [
       "250000.0"
      ]
     },
     "execution_count": 33,
     "metadata": {},
     "output_type": "execute_result"
    }
   ],
   "source": [
    "sa.get_res_bw()"
   ]
  },
  {
   "cell_type": "code",
   "execution_count": 34,
   "metadata": {
    "ExecuteTime": {
     "end_time": "2019-04-25T12:48:36.906941Z",
     "start_time": "2019-04-25T12:48:36.901960Z"
    }
   },
   "outputs": [],
   "source": [
    "iq_calibration_measure_inst.generate_random_waveforms()"
   ]
  },
  {
   "cell_type": "code",
   "execution_count": 35,
   "metadata": {
    "ExecuteTime": {
     "end_time": "2019-04-25T12:49:02.390065Z",
     "start_time": "2019-04-25T12:48:38.894406Z"
    }
   },
   "outputs": [
    {
     "name": "stderr",
     "output_type": "stream",
     "text": [
      "C:\\ProgramData\\Anaconda3\\lib\\site-packages\\scipy\\signal\\signaltools.py:2223: FutureWarning: Using a non-tuple sequence for multidimensional indexing is deprecated; use `arr[tuple(seq)]` instead of `arr[seq]`. In the future this will be interpreted as an array index, `arr[np.array(seq)]`, which will result either in an error or a different result.\n",
      "  Y[sl] = X[sl]\n",
      "C:\\ProgramData\\Anaconda3\\lib\\site-packages\\scipy\\signal\\signaltools.py:2225: FutureWarning: Using a non-tuple sequence for multidimensional indexing is deprecated; use `arr[tuple(seq)]` instead of `arr[seq]`. In the future this will be interpreted as an array index, `arr[np.array(seq)]`, which will result either in an error or a different result.\n",
      "  Y[sl] = X[sl]\n",
      "C:\\ProgramData\\Anaconda3\\lib\\site-packages\\scipy\\signal\\signaltools.py:2230: FutureWarning: Using a non-tuple sequence for multidimensional indexing is deprecated; use `arr[tuple(seq)]` instead of `arr[seq]`. In the future this will be interpreted as an array index, `arr[np.array(seq)]`, which will result either in an error or a different result.\n",
      "  Y[sl] += X[sl]  # add the component of X at N/2\n"
     ]
    }
   ],
   "source": [
    "iq_calibration_measure_inst.measure()"
   ]
  },
  {
   "cell_type": "code",
   "execution_count": 36,
   "metadata": {
    "ExecuteTime": {
     "end_time": "2019-04-25T12:49:27.469831Z",
     "start_time": "2019-04-25T12:49:22.936825Z"
    }
   },
   "outputs": [
    {
     "data": {
      "text/plain": [
       "array([3.73062124e-09, 3.59986837e-09, 3.35913586e-09, ...,\n",
       "       3.32942614e-09, 3.15345155e-09, 3.11926394e-09])"
      ]
     },
     "execution_count": 36,
     "metadata": {},
     "output_type": "execute_result"
    }
   ],
   "source": [
    "power = sa.measure()['Power']\n",
    "power"
   ]
  },
  {
   "cell_type": "code",
   "execution_count": 39,
   "metadata": {
    "ExecuteTime": {
     "end_time": "2019-04-25T12:50:21.297035Z",
     "start_time": "2019-04-25T12:50:20.967781Z"
    },
    "collapsed": true
   },
   "outputs": [],
   "source": [
    "f= sa.get_freqpoints()"
   ]
  },
  {
   "cell_type": "code",
   "execution_count": 40,
   "metadata": {
    "ExecuteTime": {
     "end_time": "2019-04-25T12:50:27.388424Z",
     "start_time": "2019-04-25T12:50:27.113154Z"
    }
   },
   "outputs": [
    {
     "data": {
      "text/plain": [
       "[<matplotlib.lines.Line2D at 0x20b43548668>]"
      ]
     },
     "execution_count": 40,
     "metadata": {},
     "output_type": "execute_result"
    },
    {
     "data": {
      "image/png": "[encoded data removed]",
      "text/plain": [
       "<Figure size 2304x576 with 1 Axes>"
      ]
     },
     "metadata": {},
     "output_type": "display_data"
    }
   ],
   "source": [
    "plt.figure(figsize=(32,8))\n",
    "plt.plot(f, np.log10(power))"
   ]
  },
  {
   "cell_type": "code",
   "execution_count": 48,
   "metadata": {
    "ExecuteTime": {
     "end_time": "2019-04-25T12:38:26.408636Z",
     "start_time": "2019-04-25T12:38:26.257018Z"
    }
   },
   "outputs": [
    {
     "data": {
      "image/png": "[encoded data removed]",
      "text/plain": [
       "<Figure size 432x288 with 1 Axes>"
      ]
     },
     "metadata": {},
     "output_type": "display_data"
    }
   ],
   "source": [
    "#\n",
    "plt.plot(iq_calibration_measure_inst.psds.T)\n",
    "plt.show()"
   ]
  },
  {
   "cell_type": "code",
   "execution_count": 11,
   "metadata": {
    "ExecuteTime": {
     "end_time": "2019-04-24T12:01:13.930638Z",
     "start_time": "2019-04-24T12:01:13.923657Z"
    },
    "collapsed": true
   },
   "outputs": [],
   "source": [
    "\n",
    "# following numbers ust be integer\n",
    "#segment_length = int(discretization_frequency/algorithmic_resolution)\n",
    "#half_physical_padding = int(((discretization_frequency/measurement_resolution_bw*physical_overhead)-segment_length)/2)\n",
    "#half_simulation_padding = int(((discretization_frequency/measurement_resolution_bw)-segment_length)/2)"
   ]
  },
  {
   "cell_type": "code",
   "execution_count": null,
   "metadata": {
    "collapsed": true
   },
   "outputs": [],
   "source": [
    "reference_frequency = lo.get_frequency()"
   ]
  },
  {
   "cell_type": "code",
   "execution_count": 22,
   "metadata": {
    "ExecuteTime": {
     "end_time": "2019-04-22T12:31:11.011925Z",
     "start_time": "2019-04-22T12:31:11.005943Z"
    },
    "collapsed": true
   },
   "outputs": [],
   "source": [
    "random_iq_waveforms = np.random.rand(random_waveform_number, segment_length)+\\\n",
    "                   1j*np.random.rand(random_waveform_number, segment_length)\n",
    "padded_waveforms    = np.zeros((random_waveform_number, half_physical_padding*2+segment_length), dtype=np.complex)\n",
    "padded_waveforms[:, half_physical_padding:-half_physical_padding] = random_iq_waveforms"
   ]
  },
  {
   "cell_type": "code",
   "execution_count": 33,
   "metadata": {
    "ExecuteTime": {
     "end_time": "2019-04-22T13:49:05.601588Z",
     "start_time": "2019-04-22T13:49:05.576629Z"
    }
   },
   "outputs": [
    {
     "ename": "NameError",
     "evalue": "name 'set_waveform' is not defined",
     "output_type": "error",
     "traceback": [
      "\u001b[1;31m---------------------------------------------------------------------------\u001b[0m",
      "\u001b[1;31mNameError\u001b[0m                                 Traceback (most recent call last)",
      "\u001b[1;32m<ipython-input-33-8e094a61b17e>\u001b[0m in \u001b[0;36m<module>\u001b[1;34m()\u001b[0m\n\u001b[0;32m      1\u001b[0m \u001b[1;31m# algorithm:\u001b[0m\u001b[1;33m\u001b[0m\u001b[1;33m\u001b[0m\u001b[1;33m\u001b[0m\u001b[0m\n\u001b[0;32m      2\u001b[0m \u001b[1;31m# 1) measure background\u001b[0m\u001b[1;33m\u001b[0m\u001b[1;33m\u001b[0m\u001b[1;33m\u001b[0m\u001b[0m\n\u001b[1;32m----> 3\u001b[1;33m \u001b[0mset_waveform\u001b[0m\u001b[1;33m(\u001b[0m\u001b[0mnp\u001b[0m\u001b[1;33m.\u001b[0m\u001b[0mzeros_like\u001b[0m\u001b[1;33m(\u001b[0m\u001b[0mpadded_waveforms\u001b[0m\u001b[1;33m[\u001b[0m\u001b[1;36m0\u001b[0m\u001b[1;33m,\u001b[0m \u001b[1;33m:\u001b[0m\u001b[1;33m]\u001b[0m\u001b[1;33m)\u001b[0m\u001b[1;33m)\u001b[0m\u001b[1;33m\u001b[0m\u001b[1;33m\u001b[0m\u001b[0m\n\u001b[0m\u001b[0;32m      4\u001b[0m \u001b[0mbackground\u001b[0m \u001b[1;33m=\u001b[0m \u001b[0mmeasure_psd\u001b[0m\u001b[1;33m(\u001b[0m\u001b[1;33m)\u001b[0m\u001b[1;33m\u001b[0m\u001b[1;33m\u001b[0m\u001b[0m\n\u001b[0;32m      5\u001b[0m \u001b[1;31m# 2) at low amplitude, measure real, imag, realimag\u001b[0m\u001b[1;33m\u001b[0m\u001b[1;33m\u001b[0m\u001b[1;33m\u001b[0m\u001b[0m\n",
      "\u001b[1;31mNameError\u001b[0m: name 'set_waveform' is not defined"
     ]
    }
   ],
   "source": [
    "# algorithm:\n",
    "# 1) measure background\n",
    "set_waveform(np.zeros_like(padded_waveforms[0, :]))\n",
    "background = measure_psd()\n",
    "# 2) at low amplitude, measure real, imag, realimag\n",
    "psds_low_i = np.zeros((random_waveform_number, int(discretization_frequency/measurement_resolution_bw)))\n",
    "psds_low_q = np.zeros((random_waveform_number, int(discretization_frequency/measurement_resolution_bw)))\n",
    "psds_low_iq = np.zeros((random_waveform_number, int(discretization_frequency/measurement_resolution_bw)))\n",
    "for random_waveform_id in range(random_iq_waveforms.shape[0]):\n",
    "    set_waveform(low_amplitude*np.real(padded_waveforms[random_waveform_id, :]))\n",
    "    psd_low_i[random_waveform_id, :]  = measure_psd()\n",
    "    set_waveform(low_amplitude*np.imag(padded_waveforms[random_waveform_id, :]))\n",
    "    psd_low_q[random_waveform_id, :]  = measure_psd()\n",
    "    set_waveform(low_amplitude*padded_waveforms[random_waveform_id, :])\n",
    "    psd_low_iq[random_waveform_id, :] = measure_psd()\n",
    "\n",
    "psds_low_i_nobg = psds_low_i-background\n",
    "psds_low_q_nobg = psds_low_q-background\n",
    "psds_low_iq_nobg = psds_low_iq-background\n",
    "psds_low_i_nobg[psds_low_i_nobg<0] = 0\n",
    "psds_low_q_nobg[psds_low_q_nobg<0] = 0\n",
    "psds_low_iq_nobg[psds_low_iq_nobg<0] = 0\n",
    "fd_low_i = np.sqrt(psds_low_i_nobg)\n",
    "fd_low_q = np.sqrt(psds_low_q_nobg)\n",
    "fd_low_iq = np.sqrt(psds_low_iq_nobg)\n",
    "\n",
    "psds_low_iq_interference = psds_low_iq_nobg-psds_low_i_nobg-psds_low_q_nobg"
   ]
  },
  {
   "cell_type": "code",
   "execution_count": 35,
   "metadata": {
    "ExecuteTime": {
     "end_time": "2019-04-22T13:49:19.527103Z",
     "start_time": "2019-04-22T13:49:19.517129Z"
    }
   },
   "outputs": [
    {
     "ename": "NameError",
     "evalue": "name 'psds_low_i_nobg' is not defined",
     "output_type": "error",
     "traceback": [
      "\u001b[1;31m---------------------------------------------------------------------------\u001b[0m",
      "\u001b[1;31mNameError\u001b[0m                                 Traceback (most recent call last)",
      "\u001b[1;32m<ipython-input-35-71be368bc7a4>\u001b[0m in \u001b[0;36m<module>\u001b[1;34m()\u001b[0m\n\u001b[1;32m----> 1\u001b[1;33m \u001b[0mresponse_i_abs\u001b[0m \u001b[1;33m=\u001b[0m \u001b[0mnp\u001b[0m\u001b[1;33m.\u001b[0m\u001b[0msqrt\u001b[0m\u001b[1;33m(\u001b[0m\u001b[0mnp\u001b[0m\u001b[1;33m.\u001b[0m\u001b[0msum\u001b[0m\u001b[1;33m(\u001b[0m\u001b[0mpsds_low_i_nobg\u001b[0m\u001b[1;33m,\u001b[0m \u001b[0maxis\u001b[0m\u001b[1;33m=\u001b[0m\u001b[1;36m0\u001b[0m\u001b[1;33m)\u001b[0m\u001b[1;33m/\u001b[0m\u001b[0mnp\u001b[0m\u001b[1;33m.\u001b[0m\u001b[0msum\u001b[0m\u001b[1;33m(\u001b[0m\u001b[0mnp\u001b[0m\u001b[1;33m.\u001b[0m\u001b[0mabs\u001b[0m\u001b[1;33m(\u001b[0m\u001b[0mdft\u001b[0m\u001b[1;33m(\u001b[0m\u001b[0mnp\u001b[0m\u001b[1;33m.\u001b[0m\u001b[0mreal\u001b[0m\u001b[1;33m(\u001b[0m\u001b[0mpadded_waveforms\u001b[0m\u001b[1;33m)\u001b[0m\u001b[1;33m)\u001b[0m\u001b[1;33m)\u001b[0m\u001b[1;33m**\u001b[0m\u001b[1;36m2\u001b[0m\u001b[1;33m)\u001b[0m\u001b[1;33m,\u001b[0m \u001b[0maxis\u001b[0m\u001b[1;33m=\u001b[0m\u001b[1;36m0\u001b[0m\u001b[1;33m)\u001b[0m\u001b[1;33m/\u001b[0m\u001b[0mlow_amplitude\u001b[0m\u001b[1;33m\u001b[0m\u001b[1;33m\u001b[0m\u001b[0m\n\u001b[0m\u001b[0;32m      2\u001b[0m \u001b[0mresponse_q_abs\u001b[0m \u001b[1;33m=\u001b[0m \u001b[0mnp\u001b[0m\u001b[1;33m.\u001b[0m\u001b[0msqrt\u001b[0m\u001b[1;33m(\u001b[0m\u001b[0mnp\u001b[0m\u001b[1;33m.\u001b[0m\u001b[0msum\u001b[0m\u001b[1;33m(\u001b[0m\u001b[0mpsds_low_q_nobg\u001b[0m\u001b[1;33m,\u001b[0m \u001b[0maxis\u001b[0m\u001b[1;33m=\u001b[0m\u001b[1;36m0\u001b[0m\u001b[1;33m)\u001b[0m\u001b[1;33m/\u001b[0m\u001b[0mnp\u001b[0m\u001b[1;33m.\u001b[0m\u001b[0msum\u001b[0m\u001b[1;33m(\u001b[0m\u001b[0mnp\u001b[0m\u001b[1;33m.\u001b[0m\u001b[0mabs\u001b[0m\u001b[1;33m(\u001b[0m\u001b[0mdft\u001b[0m\u001b[1;33m(\u001b[0m\u001b[0mnp\u001b[0m\u001b[1;33m.\u001b[0m\u001b[0mimag\u001b[0m\u001b[1;33m(\u001b[0m\u001b[0mpadded_waveforms\u001b[0m\u001b[1;33m)\u001b[0m\u001b[1;33m)\u001b[0m\u001b[1;33m)\u001b[0m\u001b[1;33m**\u001b[0m\u001b[1;36m2\u001b[0m\u001b[1;33m)\u001b[0m\u001b[1;33m,\u001b[0m \u001b[0maxis\u001b[0m\u001b[1;33m=\u001b[0m\u001b[1;36m0\u001b[0m\u001b[1;33m)\u001b[0m\u001b[1;33m/\u001b[0m\u001b[0mlow_amplitude\u001b[0m\u001b[1;33m\u001b[0m\u001b[1;33m\u001b[0m\u001b[0m\n",
      "\u001b[1;31mNameError\u001b[0m: name 'psds_low_i_nobg' is not defined"
     ]
    }
   ],
   "source": [
    "response_i_abs = np.sqrt(np.sum(psds_low_i_nobg, axis=0)/np.sum(np.abs(dft(np.real(padded_waveforms)))**2), axis=0)/low_amplitude\n",
    "response_q_abs = np.sqrt(np.sum(psds_low_q_nobg, axis=0)/np.sum(np.abs(dft(np.imag(padded_waveforms)))**2), axis=0)/low_amplitude\n",
    "fd_low_i_sim = dft(np.real(padded_waveforms))*response_i_abs\n",
    "fd_low_q_sim = 1j*dft(np.imag(padded_waveforms))*response_q_abs"
   ]
  },
  {
   "cell_type": "code",
   "execution_count": 38,
   "metadata": {
    "ExecuteTime": {
     "end_time": "2019-04-22T15:40:35.634739Z",
     "start_time": "2019-04-22T15:40:35.619779Z"
    },
    "scrolled": true
   },
   "outputs": [
    {
     "ename": "NameError",
     "evalue": "name 'response_i_abs' is not defined",
     "output_type": "error",
     "traceback": [
      "\u001b[1;31m---------------------------------------------------------------------------\u001b[0m",
      "\u001b[1;31mNameError\u001b[0m                                 Traceback (most recent call last)",
      "\u001b[1;32m<ipython-input-38-a4f8956ac372>\u001b[0m in \u001b[0;36m<module>\u001b[1;34m()\u001b[0m\n\u001b[1;32m----> 1\u001b[1;33m \u001b[0miq_phase\u001b[0m \u001b[1;33m=\u001b[0m \u001b[0mnp\u001b[0m\u001b[1;33m.\u001b[0m\u001b[0mones\u001b[0m\u001b[1;33m(\u001b[0m\u001b[0mresponse_i_abs\u001b[0m\u001b[1;33m.\u001b[0m\u001b[0mshape\u001b[0m\u001b[1;33m,\u001b[0m \u001b[0mdtype\u001b[0m\u001b[1;33m=\u001b[0m\u001b[0mnp\u001b[0m\u001b[1;33m.\u001b[0m\u001b[0mcomplex\u001b[0m\u001b[1;33m)\u001b[0m\u001b[1;33m\u001b[0m\u001b[1;33m\u001b[0m\u001b[0m\n\u001b[0m\u001b[0;32m      2\u001b[0m \u001b[0mphase_retrieval_iterations\u001b[0m \u001b[1;33m=\u001b[0m \u001b[1;36m5\u001b[0m\u001b[1;33m\u001b[0m\u001b[1;33m\u001b[0m\u001b[0m\n\u001b[0;32m      3\u001b[0m \u001b[1;32mfor\u001b[0m \u001b[0mphase_retrieval_iteration\u001b[0m \u001b[1;32min\u001b[0m \u001b[0mrange\u001b[0m\u001b[1;33m(\u001b[0m\u001b[0mphase_retrieval_iterations\u001b[0m\u001b[1;33m)\u001b[0m\u001b[1;33m:\u001b[0m\u001b[1;33m\u001b[0m\u001b[1;33m\u001b[0m\u001b[0m\n\u001b[0;32m      4\u001b[0m     \u001b[0mpsds_low_iq_interference_simulation\u001b[0m \u001b[1;33m=\u001b[0m \u001b[0mfd_low_i_sim\u001b[0m\u001b[1;33m*\u001b[0m\u001b[0mnp\u001b[0m\u001b[1;33m.\u001b[0m\u001b[0mconj\u001b[0m\u001b[1;33m(\u001b[0m\u001b[0mfd_low_q_sim\u001b[0m\u001b[1;33m*\u001b[0m\u001b[0miq_phase\u001b[0m\u001b[1;33m)\u001b[0m\u001b[1;33m\u001b[0m\u001b[1;33m\u001b[0m\u001b[0m\n\u001b[0;32m      5\u001b[0m     \u001b[0mresponse_iq_interference_simulation\u001b[0m \u001b[1;33m=\u001b[0m \u001b[0mpsds_low_iq_interference\u001b[0m \u001b[1;33m+\u001b[0m \u001b[1;36m1j\u001b[0m\u001b[1;33m*\u001b[0m\u001b[0mnp\u001b[0m\u001b[1;33m.\u001b[0m\u001b[0mimag\u001b[0m\u001b[1;33m(\u001b[0m\u001b[0mpsds_low_iq_interference_simulation\u001b[0m\u001b[1;33m)\u001b[0m\u001b[1;33m\u001b[0m\u001b[1;33m\u001b[0m\u001b[0m\n",
      "\u001b[1;31mNameError\u001b[0m: name 'response_i_abs' is not defined"
     ]
    }
   ],
   "source": [
    "iq_phase = np.ones(response_i_abs.shape, dtype=np.complex)\n",
    "phase_retrieval_iterations = 5\n",
    "for phase_retrieval_iteration in range(phase_retrieval_iterations):\n",
    "    psds_low_iq_interference_simulation = fd_low_i_sim*np.conj(fd_low_q_sim*iq_phase)\n",
    "    response_iq_interference_simulation = psds_low_iq_interference + 1j*np.imag(psds_low_iq_interference_simulation)\n",
    "    iq_phase = np.sum(response_iq_interference_simulation_corrected*np.conj(fd_low_i_sim)*fd_low_q_sim, axis=0)\n",
    "    iq_phase = np.exp(1j*np.angle(iq_phase))\n",
    "    \n",
    "linear_response_i = response_i_abs\n",
    "linear_response_q = response_q_abs*iq_phase"
   ]
  },
  {
   "cell_type": "code",
   "execution_count": null,
   "metadata": {
    "collapsed": true
   },
   "outputs": [],
   "source": []
  },
  {
   "cell_type": "code",
   "execution_count": 3,
   "metadata": {
    "ExecuteTime": {
     "end_time": "2019-04-23T05:35:17.149076Z",
     "start_time": "2019-04-23T05:35:17.124140Z"
    },
    "collapsed": true
   },
   "outputs": [],
   "source": [
    "class linear_model:\n",
    "    def __init__(self, waveforms, psds_sqrt, update_rate=0.7):\n",
    "        self.waveforms = waveforms\n",
    "        self.response_i = np.ones(waveforms.shape[1], dtype=np.complex)\n",
    "        self.response_q = np.ones(waveforms.shape[1], dtype=np.complex)\n",
    "        self.psds_sqrt = psds_sqrt\n",
    "        self.update_rate = update_rate\n",
    "        self.forward()\n",
    "    def forward(self):\n",
    "        self.waveforms_i_fd = dft(np.real(self.waveforms))\n",
    "        self.waveforms_q_fd = dft(np.imag(self.waveforms))\n",
    "        self.model = self.waveforms_i_fd*self.response_i+1j*self.wavefroms_q_fd*self.response_q\n",
    "        return self.model\n",
    "    def apply_measurement_constraint(self):\n",
    "        self.measurement_constrained_model = np.exp(1j*self.model)*self.psds_sqrt\n",
    "        self.model_diff = self.measurement_constrained_model-self.model\n",
    "    def backward_projection(self):\n",
    "        waveform_i_norm = np.sum(np.abs(self.waveforms_i_fd)**2) # sure about this axis?? axis=0)\n",
    "        waveform_q_norm = np.sum(np.abs(self.waveforms_q_fd)**2)\n",
    "        self.response_i += update_rate*np.sum(self.model_diff*np.conj(dft(np.real(self.waveforms))), axis=0)/waveform_i_norm\n",
    "        self.response_q += update_rate*np.sum(self.model_diff*np.conj(1j*dft(np.imag(self.waveforms))), axis=0)/waveform_q_norm\n",
    "    def evaluate_mse_model(self):\n",
    "        self.mse_model = np.std(np.abs(self.model_diff))**2\n",
    "    def iterate(self, iteration_num):\n",
    "        for iteration in range(iteration_num):\n",
    "            self.forward()\n",
    "            self.apply_measurement_constraint()\n",
    "            self.evaluate_mse_model()\n",
    "            print ('Iteration: {} MSE model: {}'.format(iteration, self.mse_model))\n",
    "            self.backward_projection()"
   ]
  },
  {
   "cell_type": "code",
   "execution_count": null,
   "metadata": {
    "collapsed": true
   },
   "outputs": [],
   "source": [
    "class nonlinear_instanteneous_model(linear_model):\n",
    "    def __init__(self, wavefroms, psds_sqrt, update_rate=0.7):\n",
    "        super().__init__(waveforms, psdssqrt, update_rate)\n",
    "        self.response_i_"
   ]
  },
  {
   "cell_type": "code",
   "execution_count": null,
   "metadata": {
    "collapsed": true
   },
   "outputs": [],
   "source": [
    "nonlinear_coefs = [(1,1), (2,0), (0,2), (2,1), (1,2), (3,0), (0,3)]\n",
    "\n",
    "def response_low_freqeuncy(waveform, response):\n",
    "    return np.real(np.ift(np.dft(waveform)*response))\n",
    "\n",
    "def instant_nonlinear_model(waveform, nonlinear_coefs):\n",
    "    waveform\n",
    "\n",
    "def background(waveform, background)\n",
    "\n",
    "def full_instant_model_fd(waveform, response_i, response_q, bg, coefs, response_post_mixer):\n",
    "    wave"
   ]
  }
 ],
 "metadata": {
  "kernelspec": {
   "display_name": "Python 3",
   "language": "python",
   "name": "python3"
  },
  "language_info": {
   "codemirror_mode": {
    "name": "ipython",
    "version": 3
   },
   "file_extension": ".py",
   "mimetype": "text/x-python",
   "name": "python",
   "nbconvert_exporter": "python",
   "pygments_lexer": "ipython3",
   "version": "3.6.5"
  },
  "toc": {
   "base_numbering": 1,
   "nav_menu": {},
   "number_sections": true,
   "sideBar": true,
   "skip_h1_title": false,
   "title_cell": "Table of Contents",
   "title_sidebar": "Contents",
   "toc_cell": false,
   "toc_position": {},
   "toc_section_display": true,
   "toc_window_display": false
  },
  "varInspector": {
   "cols": {
    "lenName": 16,
    "lenType": 16,
    "lenVar": 40
   },
   "kernels_config": {
    "python": {
     "delete_cmd_postfix": "",
     "delete_cmd_prefix": "del ",
     "library": "var_list.py",
     "varRefreshCmd": "print(var_dic_list())"
    },
    "r": {
     "delete_cmd_postfix": ") ",
     "delete_cmd_prefix": "rm(",
     "library": "var_list.r",
     "varRefreshCmd": "cat(var_dic_list()) "
    }
   },
   "position": {
    "height": "712px",
    "left": "1538px",
    "right": "32px",
    "top": "154px",
    "width": "350px"
   },
   "types_to_exclude": [
    "module",
    "function",
    "builtin_function_or_method",
    "instance",
    "_Feature"
   ],
   "window_display": true
  }
 },
 "nbformat": 4,
 "nbformat_minor": 2
}
